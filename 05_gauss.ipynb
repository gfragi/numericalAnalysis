{
 "cells": [
  {
   "attachments": {},
   "cell_type": "markdown",
   "metadata": {},
   "source": [
    "## Μέθοδος απαλοιφής Gauss - Gaussian elimination function"
   ]
  },
  {
   "attachments": {},
   "cell_type": "markdown",
   "metadata": {},
   "source": [
    "### \n",
    "Σε αυτό το παράδειγμα, ορίζουμε τον πίνακα συντελεστών Α και το σταθερό διάνυσμα Β που αντιπροσωπεύει ένα σύστημα γραμμικών εξισώσεων. Η συνάρτηση gaussian_elimination υλοποιεί τη μέθοδο Gaussian elimination για την επίλυση του συστήματος."
   ]
  },
  {
   "cell_type": "code",
   "execution_count": null,
   "metadata": {},
   "outputs": [],
   "source": [
    "import numpy as np\n",
    "\n",
    "def gaussian_elimination(A, B):\n",
    "    \"\"\"\n",
    "    Solves a system of linear equations using Gaussian elimination method.\n",
    "    \n",
    "    Parameters:\n",
    "    - A: Coefficient matrix of the linear system.\n",
    "    - B: Constant vector of the linear system.\n",
    "    \n",
    "    Returns:\n",
    "    - The solution vector of the linear system.\n",
    "    \"\"\"\n",
    "    n = len(A)\n",
    "    \n",
    "    # Forward elimination\n",
    "    for i in range(n-1):\n",
    "        for j in range(i+1, n):\n",
    "            factor = A[j, i] / A[i, i]\n",
    "            A[j, i:] -= factor * A[i, i:]\n",
    "            B[j] -= factor * B[i]\n",
    "    \n",
    "    # Back substitution\n",
    "    X = np.zeros(n)\n",
    "    X[-1] = B[-1] / A[-1, -1]\n",
    "    \n",
    "    for i in range(n-2, -1, -1):\n",
    "        X[i] = (B[i] - np.dot(A[i, i+1:], X[i+1:])) / A[i, i]\n",
    "    \n",
    "    return X\n",
    "\n",
    "# Example: Solving a system of linear equations using Gaussian elimination\n",
    "\n",
    "# Coefficient matrix\n",
    "A = np.array([[2, -1, 1],\n",
    "              [4, 3, -1],\n",
    "              [3, -1, 2]])\n",
    "\n",
    "# Constant vector\n",
    "B = np.array([4, 2, 6])\n",
    "\n",
    "# Solve the system using Gaussian elimination\n",
    "solution = gaussian_elimination(A, B)\n",
    "\n",
    "print(\"Solution:\", solution)"
   ]
  }
 ],
 "metadata": {
  "language_info": {
   "name": "python"
  },
  "orig_nbformat": 4
 },
 "nbformat": 4,
 "nbformat_minor": 2
}
