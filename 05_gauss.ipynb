{
 "cells": [
  {
   "attachments": {},
   "cell_type": "markdown",
   "metadata": {},
   "source": [
    "## Μέθοδος απαλοιφής Gauss - Gaussian elimination function"
   ]
  },
  {
   "attachments": {},
   "cell_type": "markdown",
   "metadata": {},
   "source": [
    "### \n",
    "Σε αυτό το παράδειγμα, ορίζουμε τον πίνακα συντελεστών Α και το σταθερό διάνυσμα Β που αντιπροσωπεύει ένα σύστημα γραμμικών εξισώσεων. Η συνάρτηση gaussian_elimination υλοποιεί τη μέθοδο Gaussian elimination για την επίλυση του συστήματος."
   ]
  },
  {
   "cell_type": "code",
   "execution_count": 3,
   "metadata": {},
   "outputs": [
    {
     "name": "stdout",
     "output_type": "stream",
     "text": [
      "Solution: [ 1.25 -0.75  0.75]\n"
     ]
    }
   ],
   "source": [
    "import numpy as np\n",
    "\n",
    "def gaussian_elimination(A, B):\n",
    "    \"\"\"\n",
    "    Solves a system of linear equations using Gaussian elimination method.\n",
    "\n",
    "    Parameters:\n",
    "    - A: Coefficient matrix of the linear system.\n",
    "    - B: Constant vector of the linear system.\n",
    "\n",
    "    Returns:\n",
    "    - The solution vector of the linear system.\n",
    "    \"\"\"\n",
    "    n = len(A)\n",
    "\n",
    "    # Forward elimination\n",
    "    for i in range(n-1):\n",
    "        # Perform row operations to eliminate variables below the current row\n",
    "        for j in range(i+1, n):\n",
    "            factor = A[j, i] / A[i, i]  # Compute the factor by dividing the current row's pivot element\n",
    "            A[j, i:] -= factor * A[i, i:]  # Update the elements of the current row\n",
    "            B[j] -= factor * B[i]  # Update the corresponding element of the constant vector\n",
    "\n",
    "    # Back substitution\n",
    "    X = np.zeros(n, dtype=float)  # Specify the data type as float\n",
    "    X[-1] = B[-1] / A[-1, -1]  # Solve for the last variable\n",
    "\n",
    "    for i in range(n-2, -1, -1):\n",
    "        # Solve for the remaining variables by substituting the known values\n",
    "        X[i] = (B[i] - np.dot(A[i, i+1:], X[i+1:])) / A[i, i]\n",
    "\n",
    "    return X\n",
    "\n",
    "# Example: Solving a system of linear equations using Gaussian elimination\n",
    "\n",
    "# Coefficient matrix (with float data type)\n",
    "A = np.array([[2.0, -1.0, 1.0],\n",
    "              [4.0, 3.0, -1.0],\n",
    "              [3.0, -1.0, 2.0]])\n",
    "\n",
    "# Constant vector (with float data type)\n",
    "B = np.array([4.0, 2.0, 6.0])\n",
    "\n",
    "# Solve the system using Gaussian elimination\n",
    "solution = gaussian_elimination(A, B)\n",
    "\n",
    "print(\"Solution:\", solution)"
   ]
  },
  {
   "cell_type": "code",
   "execution_count": 12,
   "metadata": {},
   "outputs": [],
   "source": [
    "import matplotlib.pyplot as plt\n",
    "import plotly.graph_objects as go\n",
    "\n",
    "\n",
    "x = np.linspace(-5, 5, 100)\n",
    "y = np.linspace(-5, 5, 100)\n",
    "X, Y = np.meshgrid(x, y)\n",
    "\n",
    "Z1 = (B[0] - A[0, 0] * X - A[0, 1] * Y) / A[0, 2]\n",
    "Z2 = (B[1] - A[1, 0] * X - A[1, 1] * Y) / A[1, 2]\n",
    "Z3 = (B[2] - A[2, 0] * X - A[2, 1] * Y) / A[2, 2]\n",
    "\n",
    "solution_x, solution_y, solution_z = solution\n",
    "\n",
    "fig = go.Figure()\n",
    "\n",
    "fig.add_trace(go.Surface(x=X, y=Y, z=Z1, name='2x - y + z = 4'))\n",
    "fig.add_trace(go.Surface(x=X, y=Y, z=Z2, name='4x + 3y - z = 2'))\n",
    "fig.add_trace(go.Surface(x=X, y=Y, z=Z3, name='3x - y + 2z = 6'))\n",
    "\n",
    "fig.add_trace(go.Scatter3d(x=[solution_x], y=[solution_y], z=[solution_z],\n",
    "                           mode='markers', marker=dict(size=5, color='red'),\n",
    "                           name='Solution'))\n",
    "\n",
    "fig.update_layout(title='System of Linear Equations',\n",
    "                  scene=dict(xaxis_title='X', yaxis_title='Y', zaxis_title='Z'))\n",
    "\n",
    "fig.write_html('linear_equations.html')\n"
   ]
  }
 ],
 "metadata": {
  "kernelspec": {
   "display_name": "price3.9_env",
   "language": "python",
   "name": "price3.9_env"
  },
  "language_info": {
   "codemirror_mode": {
    "name": "ipython",
    "version": 3
   },
   "file_extension": ".py",
   "mimetype": "text/x-python",
   "name": "python",
   "nbconvert_exporter": "python",
   "pygments_lexer": "ipython3",
   "version": "3.9.16"
  },
  "orig_nbformat": 4
 },
 "nbformat": 4,
 "nbformat_minor": 2
}
