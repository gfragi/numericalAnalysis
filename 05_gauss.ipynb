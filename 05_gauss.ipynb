{
 "cells": [
  {
   "attachments": {},
   "cell_type": "markdown",
   "metadata": {},
   "source": [
    "## Μέθοδος απαλοιφής Gauss - Gaussian elimination function"
   ]
  },
  {
   "attachments": {},
   "cell_type": "markdown",
   "metadata": {},
   "source": [
    "### \n",
    "Σε αυτό το παράδειγμα, ορίζουμε τον πίνακα συντελεστών Α και το σταθερό διάνυσμα Β που αντιπροσωπεύει ένα σύστημα γραμμικών εξισώσεων. Η συνάρτηση gaussian_elimination υλοποιεί τη μέθοδο Gaussian elimination για την επίλυση του συστήματος."
   ]
  },
  {
   "cell_type": "code",
   "execution_count": 3,
   "metadata": {},
   "outputs": [
    {
     "name": "stdout",
     "output_type": "stream",
     "text": [
      "Solution: [ 1.25 -0.75  0.75]\n"
     ]
    }
   ],
   "source": [
    "import numpy as np\n",
    "\n",
    "def gaussian_elimination(A, B):\n",
    "    \"\"\"\n",
    "    Solves a system of linear equations using Gaussian elimination method.\n",
    "\n",
    "    Parameters:\n",
    "    - A: Coefficient matrix of the linear system.\n",
    "    - B: Constant vector of the linear system.\n",
    "\n",
    "    Returns:\n",
    "    - The solution vector of the linear system.\n",
    "    \"\"\"\n",
    "    n = len(A)\n",
    "\n",
    "    # Forward elimination\n",
    "    for i in range(n-1):\n",
    "        # Perform row operations to eliminate variables below the current row\n",
    "        for j in range(i+1, n):\n",
    "            factor = A[j, i] / A[i, i]  # Compute the factor by dividing the current row's pivot element\n",
    "            A[j, i:] -= factor * A[i, i:]  # Update the elements of the current row\n",
    "            B[j] -= factor * B[i]  # Update the corresponding element of the constant vector\n",
    "\n",
    "    # Back substitution\n",
    "    X = np.zeros(n, dtype=float)  # Specify the data type as float\n",
    "    X[-1] = B[-1] / A[-1, -1]  # Solve for the last variable\n",
    "\n",
    "    for i in range(n-2, -1, -1):\n",
    "        # Solve for the remaining variables by substituting the known values\n",
    "        X[i] = (B[i] - np.dot(A[i, i+1:], X[i+1:])) / A[i, i]\n",
    "\n",
    "    return X\n",
    "\n",
    "# Example: Solving a system of linear equations using Gaussian elimination\n",
    "\n",
    "# Coefficient matrix (with float data type)\n",
    "A = np.array([[2.0, -1.0, 1.0],\n",
    "              [4.0, 3.0, -1.0],\n",
    "              [3.0, -1.0, 2.0]])\n",
    "\n",
    "# Constant vector (with float data type)\n",
    "B = np.array([4.0, 2.0, 6.0])\n",
    "\n",
    "# Solve the system using Gaussian elimination\n",
    "solution = gaussian_elimination(A, B)\n",
    "\n",
    "print(\"Solution:\", solution)"
   ]
  },
  {
   "cell_type": "code",
   "execution_count": 4,
   "metadata": {},
   "outputs": [
    {
     "name": "stderr",
     "output_type": "stream",
     "text": [
      "/tmp/ipykernel_414232/1757078934.py:8: RuntimeWarning: divide by zero encountered in true_divide\n",
      "  plt.plot(x, (B[2] - A[2, 0] * x - A[2, 2]) / A[2, 1], label=\"3x - y + 2z = 6\")\n"
     ]
    },
    {
     "data": {
      "image/png": "[encoded data removed]",
      "text/plain": [
       "<Figure size 432x288 with 1 Axes>"
      ]
     },
     "metadata": {
      "needs_background": "light"
     },
     "output_type": "display_data"
    }
   ],
   "source": [
    "import matplotlib.pyplot as plt\n",
    "\n",
    "\n",
    "# Plot the equations as lines\n",
    "x = np.linspace(-5, 5, 100)\n",
    "plt.plot(x, (B[0] - A[0, 0] * x - A[0, 2]) / A[0, 1], label=\"2x - y + z = 4\")\n",
    "plt.plot(x, (B[1] - A[1, 0] * x - A[1, 2]) / A[1, 1], label=\"4x + 3y - z = 2\")\n",
    "plt.plot(x, (B[2] - A[2, 0] * x - A[2, 2]) / A[2, 1], label=\"3x - y + 2z = 6\")\n",
    "\n",
    "# Plot the solution point\n",
    "plt.scatter(solution[0], solution[1], color='red', marker='o', label=\"Solution (x, y)\")\n",
    "\n",
    "plt.legend()\n",
    "plt.grid(True)\n",
    "plt.show()"
   ]
  }
 ],
 "metadata": {
  "kernelspec": {
   "display_name": "price3.9_env",
   "language": "python",
   "name": "price3.9_env"
  },
  "language_info": {
   "codemirror_mode": {
    "name": "ipython",
    "version": 3
   },
   "file_extension": ".py",
   "mimetype": "text/x-python",
   "name": "python",
   "nbconvert_exporter": "python",
   "pygments_lexer": "ipython3",
   "version": "3.9.16"
  },
  "orig_nbformat": 4
 },
 "nbformat": 4,
 "nbformat_minor": 2
}
