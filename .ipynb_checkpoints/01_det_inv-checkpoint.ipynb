{
 "cells": [
  {
   "cell_type": "markdown",
   "id": "99843e41-2a29-4e0b-963c-6f17ce1a61af",
   "metadata": {
    "tags": []
   },
   "source": [
    "# Αριθμητική Ανάλυση - Numerical Analysis & Python\n",
    "\n",
    "Η αριθμητική ανάλυση είναι ένα πεδίο μελέτης που εστιάζει στην ανάπτυξη αλγορίθμων και μεθόδων για την επίλυση μαθηματικών προβλημάτων με χρήση υπολογιστών. Η Python είναι μια δημοφιλής γλώσσα προγραμματισμού για αριθμητική ανάλυση λόγω της απλότητας, της αναγνωσιμότητας και των εκτεταμένων επιστημονικών βιβλιοθηκών υπολογιστών.\n",
    "\n",
    "Η Python παρέχει πολλές **βιβλιοθήκες** που χρησιμοποιούνται συνήθως για εργασίες αριθμητικής ανάλυσης. Μερικές από τις βασικές βιβλιοθήκες είναι:\n",
    "\n",
    "\n",
    "\n",
    "**NumPy**: Η NumPy είναι μια θεμελιώδης βιβλιοθήκη για αριθμητικούς υπολογισμούς στην Python. Παρέχει υποστήριξη για μεγάλους, πολυδιάστατους πίνακες και πίνακες, μαζί με μια συλλογή μαθηματικών συναρτήσεων για αποτελεσματική λειτουργία σε αυτούς τους πίνακες.\n",
    "\n",
    "**SciPy**: H SciPy βασίζεται στο NumPy και παρέχει πρόσθετες αριθμητικές ρουτίνες και αλγόριθμους για βελτιστοποίηση, παρεμβολή, γραμμική άλγεβρα, επεξεργασία σήματος, στατιστικά και πολλά άλλα. Προσφέρει διάφορα υποπακέτα που ειδικεύονται σε διαφορετικούς τομείς αριθμητικής ανάλυσης.\n",
    "\n",
    "**Matplotlib**: H Matplotlib είναι μια βιβλιοθήκη σχεδίασης που σας επιτρέπει να δημιουργήσετε ένα ευρύ φάσμα υψηλής ποιότητας 2D και 3D απεικονίσεων. Ενσωματώνεται καλά με το NumPy και παρέχει ευέλικτες επιλογές για την προσαρμογή γραφημάτων και γραφημάτων.\n",
    "\n",
    "**Pandas**: H Pandas είναι μια ισχυρή βιβλιοθήκη για χειρισμό και ανάλυση δεδομένων. Παρέχει δομές δεδομένων όπως DataFrames, οι οποίες είναι χρήσιμες για την οργάνωση και το χειρισμό αριθμητικών δεδομένων. H Pandas προσφέρει επίσης διάφορες λειτουργίες για καθαρισμό δεδομένων, συγχώνευση, αναμόρφωση και συγκέντρωση δεδομένων.\n",
    "\n",
    "**SymPy**: H SymPy είναι μια βιβλιοθήκη για συμβολικά μαθηματικά στην Python. Σας επιτρέπει να εκτελείτε συμβολικούς υπολογισμούς, συμπεριλαμβανομένης της συμβολικής άλγεβρας, του λογισμού, της επίλυσης εξισώσεων και της δημιουργίας μαθηματικών παραστάσεων."
   ]
  },
  {
   "cell_type": "markdown",
   "id": "28c12056-a72b-42b3-8a21-b9e2a16b7521",
   "metadata": {
    "tags": []
   },
   "source": [
    "## Ορίζουσα - Determinant\n",
    "\n"
   ]
  },
  {
   "cell_type": "markdown",
   "id": "ae3835f1-fed9-482f-81c8-80ea52aeded9",
   "metadata": {},
   "source": [
    "### Example\n",
    "Find the **determinant** of matrix `M =[[0, 2, 1, 3], [3, 2, 8, 1], [1, 0, 0, 3], [0, 3, 2, 1]]`. Use the <a href=\"url\" target=\"https://numpy.org/devdocs/reference/generated/numpy.eye.htmlNumPy\">`np.eye`</a> function to produce a 4 × 4 identity matrix, *I*. Multiply *M* by *I* to show that the result is *M*."
   ]
  },
  {
   "cell_type": "code",
   "execution_count": 4,
   "id": "e8bcb096-2859-45b7-9bea-e9f732d61dab",
   "metadata": {
    "tags": []
   },
   "outputs": [],
   "source": [
    "import numpy as np\n",
    "from numpy.linalg import det"
   ]
  },
  {
   "cell_type": "code",
   "execution_count": 8,
   "id": "370e7245-0fcb-4eb7-9347-25726c1b4e13",
   "metadata": {
    "tags": []
   },
   "outputs": [
    {
     "name": "stdout",
     "output_type": "stream",
     "text": [
      "M:\n",
      " [[0 2 1 3]\n",
      " [3 2 8 1]\n",
      " [1 0 0 3]\n",
      " [0 3 2 1]]\n"
     ]
    }
   ],
   "source": [
    "# Create the matrix M\n",
    "\n",
    "M = np.array([[0,2,1,3], [3,2,8,1], [1,0,0,3], [0,3,2,1]])\n",
    "print(\"M:\\n\",M)"
   ]
  },
  {
   "cell_type": "code",
   "execution_count": 10,
   "id": "aba017a1-54fd-4925-8d81-375c7ca8c8ba",
   "metadata": {
    "tags": []
   },
   "outputs": [
    {
     "name": "stdout",
     "output_type": "stream",
     "text": [
      "Determinant:-38.000000000000014\n"
     ]
    }
   ],
   "source": [
    "# Calculate determinant\n",
    "print(f'Determinant:{det(M)}')"
   ]
  },
  {
   "cell_type": "code",
   "execution_count": 11,
   "id": "b707bbfa-48d0-4bc9-8202-0775d2566467",
   "metadata": {
    "tags": []
   },
   "outputs": [
    {
     "name": "stdout",
     "output_type": "stream",
     "text": [
      "I:\n",
      " [[1. 0. 0. 0.]\n",
      " [0. 1. 0. 0.]\n",
      " [0. 0. 1. 0.]\n",
      " [0. 0. 0. 1.]]\n"
     ]
    }
   ],
   "source": [
    "## Identity matrix\n",
    "\n",
    "I = np.eye(4)\n",
    "print(\"I:\\n\",I)"
   ]
  },
  {
   "cell_type": "code",
   "execution_count": 12,
   "id": "b71ceea4-36ce-4d22-b938-c4d3f11c89fa",
   "metadata": {
    "tags": []
   },
   "outputs": [
    {
     "name": "stdout",
     "output_type": "stream",
     "text": [
      "M*I:\n",
      " [[0. 2. 1. 3.]\n",
      " [3. 2. 8. 1.]\n",
      " [1. 0. 0. 3.]\n",
      " [0. 3. 2. 1.]]\n"
     ]
    }
   ],
   "source": [
    "print(\"M*I:\\n\",np.dot(M, I))"
   ]
  },
  {
   "cell_type": "markdown",
   "id": "da0fa2db-fed9-474f-ac19-fcec50e2f982",
   "metadata": {},
   "source": [
    "## Αντίστροφος - Inverse Matrix \n",
    "\n",
    "Ο αντίστροφος ενός πίνακα είναι ένας πίνακας που, όταν πολλαπλασιαστεί με τον αρχικό πίνακα, δίνει τον πίνακα ταυτότητας *Ι*. "
   ]
  },
  {
   "cell_type": "markdown",
   "id": "0f8aaf6b-b26d-4229-a61a-ed44b1b0ed1f",
   "metadata": {},
   "source": [
    "### Example\n",
    "\n",
    "The matrix *M* (in the previous example) has a nonzero determinant. Compute the inverse\n",
    "of *M*. Show that the matrix `P =[[0, 1, 0], [0, 0, 0], [1, 0, 1]]` has a determinant value of zero, and\n",
    "therefore has no inverse."
   ]
  },
  {
   "cell_type": "code",
   "execution_count": 13,
   "id": "638863e4-f5fe-41c3-81c6-42efe2e61266",
   "metadata": {
    "tags": []
   },
   "outputs": [
    {
     "name": "stdout",
     "output_type": "stream",
     "text": [
      "Inv M:\n",
      " [[-1.57894737 -0.07894737  1.23684211  1.10526316]\n",
      " [-0.63157895 -0.13157895  0.39473684  0.84210526]\n",
      " [ 0.68421053  0.18421053 -0.55263158 -0.57894737]\n",
      " [ 0.52631579  0.02631579 -0.07894737 -0.36842105]]\n",
      "det(p):\n",
      " 0.0\n"
     ]
    }
   ],
   "source": [
    "from numpy.linalg import inv\n",
    "\n",
    "print(\"Inv M:\\n\", inv(M))\n"
   ]
  },
  {
   "cell_type": "code",
   "execution_count": 14,
   "id": "c7a0547d-ff57-4728-9635-6ece47e5c14a",
   "metadata": {
    "tags": []
   },
   "outputs": [
    {
     "name": "stdout",
     "output_type": "stream",
     "text": [
      "det(p):\n",
      " 0.0\n"
     ]
    }
   ],
   "source": [
    "P = np.array([[0,1,0],\n",
    "[0,0,0],\n",
    "[1,0,1]])\n",
    "print(\"det(p):\\n\", det(P))"
   ]
  }
 ],
 "metadata": {
  "kernelspec": {
   "display_name": "numerical_env",
   "language": "python",
   "name": "numerical_env"
  },
  "language_info": {
   "codemirror_mode": {
    "name": "ipython",
    "version": 3
   },
   "file_extension": ".py",
   "mimetype": "text/x-python",
   "name": "python",
   "nbconvert_exporter": "python",
   "pygments_lexer": "ipython3",
   "version": "3.9.16"
  }
 },
 "nbformat": 4,
 "nbformat_minor": 5
}
